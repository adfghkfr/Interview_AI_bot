{
 "cells": [
  {
   "cell_type": "code",
   "execution_count": 3,
   "metadata": {},
   "outputs": [
    {
     "name": "stdout",
     "output_type": "stream",
     "text": [
      "DatasetDict({\n",
      "    train: Dataset({\n",
      "        features: ['instruction', 'input', 'output'],\n",
      "        num_rows: 2048\n",
      "    })\n",
      "})\n"
     ]
    }
   ],
   "source": [
    "import  datasets\n",
    "ds_sft = datasets.load_dataset('TigerResearch/tigerbot-kaggle-leetcodesolutions-en-2k')\n",
    "# 讀取dict格式的資料集\n",
    "print(ds_sft)\n",
    "\n",
    "# 假设数据集的列名是'column1', 'column2', 'column3'\n",
    "#questions = [row['instruction'] + \" \" + row['input'] for row in ds_sft]\n",
    "#answers = [row['output'] for row in ds_sft]"
   ]
  },
  {
   "cell_type": "code",
   "execution_count": 5,
   "metadata": {},
   "outputs": [],
   "source": [
    "ds = ds_sft['train']\n",
    "questions = [row['instruction'] + \" \" + row['input'] for row in ds]"
   ]
  }
 ],
 "metadata": {
  "kernelspec": {
   "display_name": "echo_ai",
   "language": "python",
   "name": "python3"
  },
  "language_info": {
   "codemirror_mode": {
    "name": "ipython",
    "version": 3
   },
   "file_extension": ".py",
   "mimetype": "text/x-python",
   "name": "python",
   "nbconvert_exporter": "python",
   "pygments_lexer": "ipython3",
   "version": "3.12.2"
  }
 },
 "nbformat": 4,
 "nbformat_minor": 2
}
